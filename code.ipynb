{
  "cells": [
    {
      "cell_type": "markdown",
      "metadata": {
        "id": "iZLEBSW94qcw"
      },
      "source": [
        "**Importing Libraries**"
      ]
    },
    {
      "cell_type": "code",
      "execution_count": null,
      "metadata": {
        "id": "aOX8i0OgViDy"
      },
      "outputs": [],
      "source": [
        "import pandas as pd\n",
        "import numpy as np\n",
        "import math\n",
        "import copy\n",
        "import matplotlib.pyplot as plt\n",
        "from pprint import pprint\n",
        "from sklearn import preprocessing"
      ]
    },
    {
      "cell_type": "markdown",
      "metadata": {
        "id": "wHojK9Jg5H4m"
      },
      "source": [
        "**Creating the dataset**"
      ]
    },
    {
      "cell_type": "code",
      "execution_count": null,
      "metadata": {
        "id": "SM9q_NQ1V1Z_"
      },
      "outputs": [],
      "source": [
        "Age = [24,53,23,25,32,52,22,43,52,48]\n",
        "Salary = [40000,52000,25000,77000,48000,110000,38000,44000,27000,65000]\n",
        "CollegeDegree = ['Yes','No','No','Yes','Yes','Yes','Yes','No','No','Yes']\n",
        "\n",
        "dataset = pd.DataFrame(np.array([Age,Salary,CollegeDegree]).T,columns=['Age','Salary','CollegeDegree'])"
      ]
    },
    {
      "cell_type": "code",
      "execution_count": null,
      "metadata": {
        "id": "z59AfXbZWaUL"
      },
      "outputs": [],
      "source": [
        "dataset['Age'] =  dataset.Age.astype(int)\n",
        "dataset['Salary'] = dataset.Salary.astype(int)"
      ]
    },
    {
      "cell_type": "markdown",
      "metadata": {
        "id": "MdzBLPEY5N0k"
      },
      "source": [
        "**Splitting the data into input and target features**"
      ]
    },
    {
      "cell_type": "code",
      "execution_count": null,
      "metadata": {
        "id": "qV6uAd8Jp1za"
      },
      "outputs": [],
      "source": [
        "X = np.array(dataset.drop('CollegeDegree',axis=1))\n",
        "y = np.array(dataset['CollegeDegree'])"
      ]
    },
    {
      "cell_type": "markdown",
      "metadata": {
        "id": "_8DrrxUg4gVx"
      },
      "source": [
        "### **Univariate Decision Tree**"
      ]
    },
    {
      "cell_type": "code",
      "execution_count": null,
      "metadata": {
        "id": "PGmvupBvV0ug"
      },
      "outputs": [],
      "source": [
        "class DecisionTreeClasifier(object):\n",
        "  \n",
        "    def __init__(self, features, max_depth):\n",
        "        self.features = features\n",
        "        self.max_depth = max_depth\n",
        "        self.tree_depth = 0\n",
        "\n",
        "    # entropy of a given segment of data\n",
        "    def entropy(self, y): \n",
        "        cumulative_entropy = 0\n",
        "        n_y = len(y)\n",
        "        for label in set(y):   # iterating over each label in the segment\n",
        "            n_label = sum(y==label)\n",
        "            if n_label == 0 or n_y -n_label == 0:\n",
        "              entropy = 0\n",
        "            else:\n",
        "              # calculating entropy of the label\n",
        "              entropy = -(n_label *1.0/n_y)*math.log(n_label *1.0/n_y, 2) - ((n_y-n_label )*1.0/n_y)*math.log((n_y-n_label )*1.0/n_y, 2) \n",
        "              cumulative_entropy +=  n_label *1.0/n_y * entropy # weighted avg of entropies of each segment\n",
        "        return cumulative_entropy # cumulative entropy of all the labels in the segment\n",
        "\n",
        "    # entropy of the subtrees of a node\n",
        "    def entropy_of_node(self, y_pred, y):\n",
        "        if len(y_pred) == len(y): \n",
        "            n_y = len(y) \n",
        "            n_left = len(y[y_pred])\n",
        "            entropy_left = self.entropy(y[y_pred]) # entropy of the left subtree\n",
        "            n_right = n_y - n_left\n",
        "            entropy_right = self.entropy(y[~y_pred]) # entropy of the right subtree\n",
        "            # calculating total entropy of the node as a weighted average of the entropies of it's subtrees\n",
        "            total_entropy = (n_left*1.0/n_y * entropy_left) + (n_right*1.0/n_y * entropy_right) \n",
        "            return total_entropy\n",
        "        return None\n",
        "\n",
        "    # calculating information gain\n",
        "    def information_gain(self, col_ind, y):\n",
        "        col_entropy = self.entropy(y) # entropy of the column\n",
        "        min_entropy = 10\n",
        "        for value in set(col_ind): # iterating over the unique values in the given column\n",
        "            y_pred = col_ind < value # for any value in the column that is less than \"value\", y_pred is true. Else, it is false.\n",
        "            pred_entropy = self.entropy_of_node(y_pred, y) # entropy of y_pred\n",
        "            if pred_entropy <= min_entropy: # condition to check for least entropy, then calculate information gain for that\n",
        "                threshold = value\n",
        "                min_entropy = pred_entropy\n",
        "                min_info_gain = col_entropy - pred_entropy\n",
        "        return threshold, min_entropy, min_info_gain\n",
        "\n",
        "    # finding the best splitting criterion at a given node\n",
        "    def best_split(self, X, y):\n",
        "        col_ind = None\n",
        "        threshold = None\n",
        "        min_entropy = 1\n",
        "        min_info_gain = 10\n",
        "        for i, c in enumerate(X.T): # iterating over the input features in X\n",
        "            threshold_current, entropy, info_gain = self.information_gain(c, y)\n",
        "            if entropy <= min_entropy: \n",
        "                col_ind = i\n",
        "                threshold = threshold_current\n",
        "                min_entropy = entropy\n",
        "                min_info_gain = info_gain\n",
        "            elif entropy == 0: # condition to find the best threshold, loop terminating condition\n",
        "                col_ind = i\n",
        "                threshold = threshold_current\n",
        "                min_entropy = entropy\n",
        "                min_info_gain = info_gain\n",
        "                break\n",
        "        return col_ind, threshold, min_entropy, min_info_gain\n",
        "\n",
        "    def build_tree(self, X, y, depth): \n",
        "        col_ind, threshold, entropy, info_gain = self.best_split(X, y)  # calculating best split, returning the column, threshold, entropy, information gain for the best split \n",
        "        y_left, y_right = y[X[:, col_ind] < threshold], y[X[:, col_ind] >= threshold] # splitting the coumns based on the threshold of the best split\n",
        "        node = {'Attribute': self.features[col_ind],\n",
        "                'Threshold': threshold,\n",
        "                'Information gain':info_gain} # node creation\n",
        "        node['Left'] = self.fit(X[X[:, col_ind] < threshold], y_left, {}, depth+1) # constructing left subtree recursively\n",
        "        node['Right'] = self.fit(X[X[:, col_ind] >= threshold], y_right, {}, depth+1) # constructing right subtree recursively\n",
        "        self.tree_depth += 1 # incrementing the depth of the tree after adding one level \n",
        "        self.tree = node # updating the tree\n",
        "        return node\n",
        "    \n",
        "    def fit(self, X, y, node={}, depth=0):\n",
        "        if node is None or len(y) == 0 or depth >= self.max_depth: \n",
        "            return None\n",
        "        elif len(pd.value_counts(y))==1: # counts number of unique values in y\n",
        "            return {'val':y[0]}\n",
        "        else: \n",
        "            return self.build_tree(X,y,depth)"
      ]
    },
    {
      "cell_type": "markdown",
      "metadata": {
        "id": "kOK5KA5j5WYE"
      },
      "source": [
        "**Building the decision tree for the given data**"
      ]
    },
    {
      "cell_type": "code",
      "execution_count": null,
      "metadata": {
        "colab": {
          "base_uri": "https://localhost:8080/"
        },
        "id": "xMuAI0cKWDUb",
        "outputId": "13035cde-6cf5-4c83-95d9-e4c754315d6f"
      },
      "outputs": [
        {
          "name": "stdout",
          "output_type": "stream",
          "text": [
            "Tree:\n",
            "{'Attribute': 'Salary',\n",
            " 'Threshold': 38000,\n",
            " 'Information gain': 0.3219280948873623,\n",
            " 'Left': {'val': 'No'},\n",
            " 'Right': {'Attribute': 'Age',\n",
            "           'Threshold': 43,\n",
            "           'Information gain': 0.31127812445913283,\n",
            "           'Left': {'val': 'Yes'},\n",
            "           'Right': {'Attribute': 'Salary',\n",
            "                     'Threshold': 65000,\n",
            "                     'Information gain': 1.0,\n",
            "                     'Left': {'val': 'No'},\n",
            "                     'Right': {'val': 'Yes'}}}}\n",
            "\n",
            "Depth of the tree:  3\n"
          ]
        }
      ],
      "source": [
        "model = DecisionTreeClasifier(dataset.columns, max_depth=10)\n",
        "dt = model.fit(X, y)\n",
        "print(\"Tree:\")\n",
        "pprint(dt, sort_dicts= False)\n",
        "print()\n",
        "print(\"Depth of the tree: \", model.tree_depth)"
      ]
    },
    {
      "cell_type": "markdown",
      "metadata": {
        "id": "XN-0ZDSy5hrs"
      },
      "source": [
        "### **Multivariate Decision Tree**"
      ]
    },
    {
      "cell_type": "markdown",
      "metadata": {
        "id": "3yOW7siN7irR"
      },
      "source": [
        "**Preprocessing the above data for Multivariate Decision tree**"
      ]
    },
    {
      "cell_type": "code",
      "execution_count": null,
      "metadata": {
        "id": "O39CXenH3u05"
      },
      "outputs": [],
      "source": [
        "dataset['pred']=-1\n",
        "label_encoder = preprocessing.LabelEncoder()\n",
        "dataset['CollegeDegree']= label_encoder.fit_transform(dataset['CollegeDegree'])"
      ]
    },
    {
      "cell_type": "code",
      "execution_count": null,
      "metadata": {
        "id": "1KrH5GzoCtcJ"
      },
      "outputs": [],
      "source": [
        "class MultiDecisionTreeClasifier(object):\n",
        "    def __init__(self,feature_names,max_depth):\n",
        "        self.feature_names = feature_names\n",
        "        self.depth = 0\n",
        "        self.max_depth = max_depth\n",
        "\n",
        "   # entropy of a given segment of data\n",
        "    def entropy(self,y):\n",
        "        cumulative_entropy = 0\n",
        "        n_y = len(y)\n",
        "        for label in set(y):   # iterating over each label in the segment\n",
        "            n_label = sum(y==label)\n",
        "            if n_label == 0 or n_y -n_label == 0:\n",
        "              entropy = 0\n",
        "            else:\n",
        "              # calculating entropy of the label\n",
        "              entropy = -(n_label *1.0/n_y)*math.log(n_label *1.0/n_y, 2) - ((n_y-n_label )*1.0/n_y)*math.log((n_y-n_label )*1.0/n_y, 2) \n",
        "              cumulative_entropy +=  n_label *1.0/n_y * entropy # weighted avg of entropies of each segment\n",
        "        return cumulative_entropy, n_y # cumulative entropy of all the labels in the segment, size of the segment\n",
        "    \n",
        "    # updating the alpha, beta values using the perceptron rule\n",
        "    def perceptron(self, dataset, alpha, beta):\n",
        "        for i in dataset.index:\n",
        "            x_age = dataset[\"Age\"][i]\n",
        "            x_income = dataset[\"Salary\"][i]\n",
        "            # adjusting alpha, beta values at each split\n",
        "            if alpha*x_age + beta*x_income - 1 >= 0:\n",
        "                dataset['pred'][i]=1\n",
        "                if(dataset['pred'][i] != dataset['CollegeDegree'][i]):\n",
        "                    alpha = alpha-x_age\n",
        "                    beta = beta-x_income\n",
        "            else:\n",
        "                dataset['pred'][i] = 0\n",
        "                if(dataset['pred'][i] != dataset['CollegeDegree'][i]):\n",
        "                    alpha = alpha + x_age\n",
        "                    beta = beta + x_income\n",
        "        return alpha, beta\n",
        "\n",
        "    # calculating information gain \n",
        "    def information_gain(self, dataset, y, col_entropy, col_count):\n",
        "        y_left = dataset['CollegeDegree'][dataset['pred']==0]\n",
        "        n_left = len(y_left)\n",
        "        entropy_left = self.entropy(y_left)[0] # entropy of left subtree\n",
        "        y_right = dataset['CollegeDegree'][dataset['pred']==1]\n",
        "        n_right = col_count - n_left \n",
        "        entropy_right= self.entropy(y_right)[0] # entropy of right subtree\n",
        "        # calculating total entropy of the node as a weighted average of the entropies of it's subtrees\n",
        "        total_entropy = (n_left/col_count)*entropy_left + (n_right/col_count)*entropy_right\n",
        "        return (col_entropy- total_entropy), total_entropy # returning information gain and total entropy\n",
        "    \n",
        "    def fit(self, dataset, y):\n",
        "        np.random.seed(70)\n",
        "        # randomly initializing alpha and beta values\n",
        "        alpha = np.random.rand()\n",
        "        beta = np.random.rand()\n",
        "        col_entropy = self.entropy(y)[0] # entropy of the column\n",
        "        col_count = len(y)\n",
        "        tmp = 0 # looping variable\n",
        "        while tmp < 100:\n",
        "          alpha, beta = self.perceptron(dataset, alpha, beta)\n",
        "\n",
        "          info_gain, entropy = self.information_gain(dataset, y, col_entropy, col_count)\n",
        "\n",
        "          self.alpha = alpha\n",
        "          self.beta = beta\n",
        "          self.info_gain = info_gain\n",
        "          print(\"Information gain = {an:.4f} \".format(an = info_gain), \"; Alpha = {an:.4f} \".format(an = alpha), \" ; Beta = {an:.4f} \".format(an = beta), \"; Entropy = {an:.4f} \".format(an = entropy))\n",
        "          if(entropy == 0): # condition to find the best split, loop terminating condition\n",
        "              break\n",
        "          tmp += 1      "
      ]
    },
    {
      "cell_type": "markdown",
      "metadata": {
        "id": "qLU_ygN17xHX"
      },
      "source": [
        "**Finding and printing alpha, beta and information gain at each split**"
      ]
    },
    {
      "cell_type": "code",
      "execution_count": null,
      "metadata": {
        "colab": {
          "base_uri": "https://localhost:8080/"
        },
        "id": "Y9kdpRgrXjAS",
        "outputId": "e3941456-4dc7-4233-8e79-741b3b007c48"
      },
      "outputs": [
        {
          "name": "stdout",
          "output_type": "stream",
          "text": [
            "Information gain = 0.0200  ; Alpha = -22.0725   ; Beta = 46000.8724  ; Entropy = 0.9510 \n",
            "Information gain = 0.0074  ; Alpha = -145.0725   ; Beta = 0.8724  ; Entropy = 0.9635 \n",
            "Information gain = 0.0200  ; Alpha = -168.0725   ; Beta = 46000.8724  ; Entropy = 0.9510 \n",
            "Information gain = 0.0074  ; Alpha = -291.0725   ; Beta = 0.8724  ; Entropy = 0.9635 \n",
            "Information gain = 0.0200  ; Alpha = -314.0725   ; Beta = 46000.8724  ; Entropy = 0.9510 \n",
            "Information gain = 0.0074  ; Alpha = -437.0725   ; Beta = 0.8724  ; Entropy = 0.9635 \n",
            "Information gain = 0.0200  ; Alpha = -460.0725   ; Beta = 46000.8724  ; Entropy = 0.9510 \n",
            "Information gain = 0.0074  ; Alpha = -583.0725   ; Beta = 0.8724  ; Entropy = 0.9635 \n",
            "Information gain = 0.0200  ; Alpha = -606.0725   ; Beta = 46000.8724  ; Entropy = 0.9510 \n",
            "Information gain = 0.0074  ; Alpha = -729.0725   ; Beta = 0.8724  ; Entropy = 0.9635 \n",
            "Information gain = 0.0200  ; Alpha = -752.0725   ; Beta = 46000.8724  ; Entropy = 0.9510 \n",
            "Information gain = 0.0074  ; Alpha = -875.0725   ; Beta = 0.8724  ; Entropy = 0.9635 \n",
            "Information gain = 0.0058  ; Alpha = -920.0725   ; Beta = 46000.8724  ; Entropy = 0.9651 \n",
            "Information gain = 0.0074  ; Alpha = -1043.0725   ; Beta = 0.8724  ; Entropy = 0.9635 \n",
            "Information gain = 0.9710  ; Alpha = -1043.0725   ; Beta = 0.8724  ; Entropy = 0.0000 \n"
          ]
        }
      ],
      "source": [
        "multimodel = MultiDecisionTreeClasifier(dataset.columns, max_depth=10)\n",
        "mtree = multimodel.fit(dataset, y)"
      ]
    },
    {
      "cell_type": "markdown",
      "metadata": {
        "id": "ZYpLwxWA7_zN"
      },
      "source": [
        "**Plotting the results**"
      ]
    },
    {
      "cell_type": "code",
      "execution_count": null,
      "metadata": {
        "colab": {
          "base_uri": "https://localhost:8080/",
          "height": 497
        },
        "id": "g0QwLfuYtdjB",
        "outputId": "9d8a9d6e-7716-4756-a898-5c6fce62de8b"
      },
      "outputs": [
        {
          "data": {
            "image/png": "[encoded data removed]",
            "text/plain": [
              "<Figure size 864x576 with 1 Axes>"
            ]
          },
          "metadata": {
            "needs_background": "light"
          },
          "output_type": "display_data"
        }
      ],
      "source": [
        "fig2 = plt.figure()\n",
        "fig2.set_size_inches(12,8)\n",
        "ax2 = plt.axes()\n",
        "ax2.scatter(data=dataset,x='Age',y='Salary',c='CollegeDegree',cmap=plt.cm.get_cmap(\"rainbow\",3))\n",
        "xx=np.linspace(20,55,2)\n",
        "plt.xlabel(\"Age\")\n",
        "plt.ylabel(\"Salary\")\n",
        "ax2.plot(xx,(-1*(1/multimodel.beta) - (multimodel.alpha/multimodel.beta)*xx),color='green')\n",
        "plt.show()"
      ]
    },
    {
      "cell_type": "markdown",
      "metadata": {
        "id": "7usRKPHm0YE6"
      },
      "source": [
        "### **Advantages and Disadvantages of Multivariate Decision Trees compared to Univariate Decision Trees**\n",
        "\n",
        "**Advantages:**\n",
        "\n",
        "*   The univariate decision tree algorithm constructs the decision tree by selecting a single feature at each split, whereas the multivariate decision tree algorithm uses a linear combination of features. Unlike univariate decision trees, this produces a tree that better expresses the relationship between the features.\n",
        "*   Multivariate decision trees converge much faster than univariate decision trees for linearly separable datasets.\n",
        "*   Multivariate decision trees reduce the replication problems of univariate decision trees, increasing the accuracy of the resulting decision tree.\n",
        "\n",
        "**Disadvantages:**\n",
        "*   In multivariate decision trees, to take a linear combination of the features, we apply encoding techniques to convert nominal features into numeric values—the number of features obtained after the conversion increases, consequently increasing computational complexity.\n",
        "*   When considering multiple features during a split, it is possible that the multivariate algorithm will select a feature that contributes no or little to the information gain."
      ]
    }
  ],
  "metadata": {
    "colab": {
      "provenance": []
    },
    "kernelspec": {
      "display_name": "Python 3",
      "name": "python3"
    },
    "language_info": {
      "name": "python"
    }
  },
  "nbformat": 4,
  "nbformat_minor": 0
}
